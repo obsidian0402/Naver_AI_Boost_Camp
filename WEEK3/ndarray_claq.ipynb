{
 "cells": [
  {
   "cell_type": "markdown",
   "metadata": {},
   "source": [
    "random sampling : 데이터 분포에 따른 sampling으로 array 생성"
   ]
  },
  {
   "cell_type": "code",
   "execution_count": null,
   "metadata": {},
   "outputs": [],
   "source": [
    "import sympy as sym\n",
    "from sympy.abc import x\n",
    "\n",
    "sym.diff(sym.poly(x**2 +2*x + 3),x)"
   ]
  }
 ],
 "metadata": {
  "interpreter": {
   "hash": "d4195137ca8564070f8a9eab89277d0e509230d6e6b1fc9df058a9b491d43558"
  },
  "kernelspec": {
   "display_name": "Python 3.7.7 64-bit",
   "language": "python",
   "name": "python3"
  },
  "language_info": {
   "name": "python",
   "version": "3.10.1"
  },
  "orig_nbformat": 4
 },
 "nbformat": 4,
 "nbformat_minor": 2
}
