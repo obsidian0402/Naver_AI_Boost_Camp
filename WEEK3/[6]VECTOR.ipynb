{
 "cells": [
  {
   "cell_type": "markdown",
   "metadata": {},
   "source": [
    "벡터(vector) : 숫자를 원소로 가지는 list(array)"
   ]
  },
  {
   "cell_type": "code",
   "execution_count": 11,
   "metadata": {},
   "outputs": [
    {
     "name": "stdout",
     "output_type": "stream",
     "text": [
      "[6 9 4]\n",
      "[-4  5  2]\n",
      "[ 5 14  3]\n"
     ]
    }
   ],
   "source": [
    "import numpy as np\n",
    "x=np.array([1,7,3])\n",
    "y=np.array([5,2,1])\n",
    "\n",
    "print(x+y)\n",
    "print(x-y)\n",
    "print(x*y)\n"
   ]
  },
  {
   "cell_type": "markdown",
   "metadata": {},
   "source": [
    "벡터의 노름(norm) : 원점에서부터의 거리\n",
    "||X||\n",
    "\n",
    "L1 노름 : 마름모 모양(Robust학습, Lasso회귀)\n",
    "\n",
    "L2 노름 : 원 모양\n",
    "(Laplace근사, Ridge회귀)\n",
    "\n"
   ]
  },
  {
   "cell_type": "markdown",
   "metadata": {},
   "source": [
    "두 벡터 사이의 각도 : 제2코사인 법칙(내적)"
   ]
  },
  {
   "cell_type": "code",
   "execution_count": 12,
   "metadata": {},
   "outputs": [
    {
     "data": {
      "text/plain": [
       "1.0205221433446645"
      ]
     },
     "execution_count": 12,
     "metadata": {},
     "output_type": "execute_result"
    }
   ],
   "source": [
    "def l1_norm(x):\n",
    "    x_norm=np.abs(x)\n",
    "    x_norm=np.sum(x_norm)\n",
    "    return x_norm\n",
    "\n",
    "def l2_norm(x):\n",
    "    x_norm = x*x\n",
    "    x_norm = np.sum(x_norm)\n",
    "    x_norm = np.sqrt(x_norm)\n",
    "    return x_norm\n",
    "\n",
    "def angle(x,y):\n",
    "    v=np.inner(x,y) / (l2_norm(x)*l2_norm(y))\n",
    "    theta = np.arccos(v)\n",
    "    return theta\n",
    "\n",
    "angle(x,y)"
   ]
  }
 ],
 "metadata": {
  "interpreter": {
   "hash": "1c5cf901aa247b80c1fb491edfecdf9b42a7922ab14c8663270258005c6c99dd"
  },
  "kernelspec": {
   "display_name": "Python 3.10.1 64-bit",
   "language": "python",
   "name": "python3"
  },
  "language_info": {
   "codemirror_mode": {
    "name": "ipython",
    "version": 3
   },
   "file_extension": ".py",
   "mimetype": "text/x-python",
   "name": "python",
   "nbconvert_exporter": "python",
   "pygments_lexer": "ipython3",
   "version": "3.10.1"
  },
  "orig_nbformat": 4
 },
 "nbformat": 4,
 "nbformat_minor": 2
}
